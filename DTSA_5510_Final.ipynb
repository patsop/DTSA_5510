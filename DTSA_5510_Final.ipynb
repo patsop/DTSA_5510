{
 "cells": [
  {
   "cell_type": "markdown",
   "id": "f305ea3a",
   "metadata": {},
   "source": [
    "# Amazon Access Samples\n",
    "## Shortcomings of Recommender Systems and Alternative Approach\n",
    "## DTSA 5510 Unsupervised Learning - Final Project\n",
    "Jupyter Notebook available via GitHub: https://github.com/patsop/DTSA_5510"
   ]
  },
  {
   "cell_type": "markdown",
   "id": "e854b524",
   "metadata": {},
   "source": [
    "## Problem Description\n",
    "\n",
    "The problem at hand can be framed as follows. We are working with a large, sparse input dataset obtained from [1], that describes the access of users to specific computer systems via a large amount of different permission groups. The rows of the input table describe the users, whereas the columns describe the permission groups. Each field in the table is either \"0\", which equals \"not a member of the permission group\", or \"1\" - \"member of the permission group\".\n",
    "\n",
    "The dataset is sparse, as, because of the large amount of permission groups, most values in the table are \"0\". \n",
    "\n",
    "We would like to achieve an algorithm that efficiently predicts the access status of a specific user for a specific permission group, solely based on similiarity metrics between the different users from a training set. Assessment of the performance will be possible by checking the confusion matrix for the binary classification task. During the process of solving this problem, we will use different similarity metrics and try to assess their performance both absolute and relative to each other. \n",
    "\n",
    "This problem statement differs slightly from the problems based on this dataset, that are known from literature. The classical problem, which was also part of the \"2012 IEEE INTERNATIONAL WORKSHOP ON MACHINE LEARNING FOR SIGNAL PROCESSING\" [2] competition, uses similarity metrics on the basis of user-attributes to predict the result. We in contrast will not use content based filtering, but collaborative filtering.\n",
    "\n",
    "It will be interesting to see, whether the patterns in access rights are enough to create high quality predictions. \n",
    "\n",
    "In summary, the research question, that we will try to answer is, whether the decision to approve a specific users membership in a specific permission group can be automated in a way, that the similiarity between his or her remaining permission groups and the groups of other users determines the result.\n",
    "\n",
    "This is a highly relevant task because of two reasons. First of all, the task describes a relatively simple and accesible usecase of a recommender system in its classical sense, that is based on collaborative filtering, and therefore constitutes a good example for learning. Furthermore, restricting the input features to only non personal pieces of information, which we try to do, accomodates the ever increasing importance of regulations for the use of private data, that have been introduced in different jurisdictions, like the EU. Our approach, if successful, could run on anonymized data, only using the access rights, that it is trying to predict, but not using things like the job title or the department of specific users. This is obviously not important in case of an employer, managing access rights for its employees, but could be important in other usecases with company-customer relationships.\n",
    "\n",
    "In our analysis we will try to show the shortcomings of classical recommender systems, as well as, give alternative approaches to gain insights into dataset similar to the one at hand."
   ]
  },
  {
   "cell_type": "markdown",
   "id": "51d106e4",
   "metadata": {},
   "source": [
    "# Exploratory Data Analysis (EDA)"
   ]
  },
  {
   "cell_type": "markdown",
   "id": "8b499a81",
   "metadata": {},
   "source": [
    "## Basic Inspection"
   ]
  },
  {
   "cell_type": "code",
   "execution_count": 25,
   "id": "f5cb52be",
   "metadata": {},
   "outputs": [],
   "source": [
    "# Used packages\n",
    "\n",
    "import pandas as pd\n",
    "import numpy as np\n",
    "from scipy import sparse\n",
    "import matplotlib.pyplot as plt\n",
    "from collections import Counter\n",
    "from math import comb\n",
    "from sklearn.model_selection import train_test_split\n",
    "from scipy.sparse import coo_matrix, csr_matrix\n",
    "from scipy.spatial.distance import jaccard, cosine \n",
    "from pytest import approx\n",
    "import time\n",
    "import itertools"
   ]
  },
  {
   "cell_type": "markdown",
   "id": "3b2f8b76",
   "metadata": {},
   "source": [
    "In the first step of the EDA procedure we will load the data from the csv-file acquired via the UCI Machine Learning Repository [1]. As we will only use the permission group access rights information from the data, we have to reduce the columns of the dataset. We will try to do this before loading the whole dataset to perform the analysis as memory-efficient as possible. In a first attempt we try to load the information of all users. We will only reduce the data in the further analysis if memory or other contraints make this necessary.\n",
    "\n",
    "We can not load our whole dataset using pandas, as this would be to memory inefficient for our machine. This is why we only use one row or column respectively to check for the total number of rows and columns. "
   ]
  },
  {
   "cell_type": "code",
   "execution_count": 2,
   "id": "a43c2c39",
   "metadata": {},
   "outputs": [
    {
     "name": "stdout",
     "output_type": "stream",
     "text": [
      "(36063, 1)\n",
      "(1, 33264)\n"
     ]
    }
   ],
   "source": [
    "df = pd.read_csv('amzn-anon-access-samples-2.0.csv',usecols=[0])\n",
    "print(df.shape)\n",
    "df = pd.read_csv('amzn-anon-access-samples-2.0.csv',nrows=1)\n",
    "print(df.shape)"
   ]
  },
  {
   "cell_type": "markdown",
   "id": "e1a3d244",
   "metadata": {},
   "source": [
    "We see, that the dataset has a total of 33264 rows or users and 36063 columns or features. In the following we will determine the start and end of our target columns, describing permission groups."
   ]
  },
  {
   "cell_type": "code",
   "execution_count": 3,
   "id": "cd0cbf11",
   "metadata": {},
   "outputs": [
    {
     "name": "stdout",
     "output_type": "stream",
     "text": [
      "2214 11330\n"
     ]
    }
   ],
   "source": [
    "df_new = [i for i, x in enumerate(df.columns) if x.startswith('PERM')]\n",
    "print(df_new[0],df_new[-1])"
   ]
  },
  {
   "cell_type": "markdown",
   "id": "a27a4b12",
   "metadata": {},
   "source": [
    "Only the columns ranging from 2214 to 11330 in their index number will be relevant for our analysis, so we will read them in using numpy, because this allows us to directly store the binary feature values as datatype integer and save significant memory."
   ]
  },
  {
   "cell_type": "code",
   "execution_count": 4,
   "id": "1046a1ba",
   "metadata": {},
   "outputs": [
    {
     "data": {
      "text/plain": [
       "(36063, 9116)"
      ]
     },
     "execution_count": 4,
     "metadata": {},
     "output_type": "execute_result"
    }
   ],
   "source": [
    "cols = list(range(df_new[0],df_new[-1]))\n",
    "converters = dict()\n",
    "for col in cols:\n",
    "    converters[col] = lambda x: int(x.replace('\"','')) # Removing the characters \"\" from the input\n",
    "am = np.genfromtxt('amzn-anon-access-samples-2.0.csv', skip_header=1, encoding='utf-8', dtype='int', delimiter=',', usecols=cols, names=None, converters=converters)\n",
    "am.shape\n"
   ]
  },
  {
   "cell_type": "code",
   "execution_count": 116,
   "id": "99af1061",
   "metadata": {},
   "outputs": [
    {
     "name": "stdout",
     "output_type": "stream",
     "text": [
      "[[0 0 0 ... 0 0 0]\n",
      " [0 0 0 ... 0 0 0]\n",
      " [0 0 0 ... 0 0 0]\n",
      " ...\n",
      " [0 0 0 ... 0 0 0]\n",
      " [0 0 0 ... 0 0 0]\n",
      " [0 0 0 ... 0 0 0]]\n",
      "[0 1]\n",
      "int64\n",
      "0.0005636952893744513\n"
     ]
    }
   ],
   "source": [
    "print(am)\n",
    "print(np.unique(am))\n",
    "print(am.dtype)\n",
    "print(np.count_nonzero(am)/(am.shape[0]*am.shape[1]))"
   ]
  },
  {
   "cell_type": "markdown",
   "id": "0075d2fb",
   "metadata": {},
   "source": [
    "Finally, we have acquired a dataset of 36063 instances or users and 9116 features or permission groups. It will be stored in the access matrix \"am\". The cell above shows, that there are no missing values present in the dataset, as the only existing values are zero or one. However, it also shows, that the dataset is highly unbalanced, containing only 0,05% one values with the rest being zero. This should be a huge problem for the recommender system approach. We will see how it works out in the remaining work."
   ]
  },
  {
   "cell_type": "markdown",
   "id": "ba8ec5e1",
   "metadata": {},
   "source": [
    "## Cleaning and Visualisation"
   ]
  },
  {
   "cell_type": "markdown",
   "id": "15f3f1b0",
   "metadata": {},
   "source": [
    "It would not be of any help to try to visualize all 9116 features, which is why we choose to visualize them in an aggregate manner, by plotting column or row averages or sums of the whole dataset.\n",
    "\n",
    "First we will plot the distribution of the number of permission groups per user for the whole dataset."
   ]
  },
  {
   "cell_type": "code",
   "execution_count": 117,
   "id": "60b40dfc",
   "metadata": {},
   "outputs": [
    {
     "data": {
      "text/plain": [
       "Text(0, 0.5, '# of users')"
      ]
     },
     "execution_count": 117,
     "metadata": {},
     "output_type": "execute_result"
    },
    {
     "data": {
      "image/png": "[encoded data removed]",
      "text/plain": [
       "<Figure size 432x288 with 1 Axes>"
      ]
     },
     "metadata": {
      "needs_background": "light"
     },
     "output_type": "display_data"
    }
   ],
   "source": [
    "accesses_per_user = []\n",
    "for i in range(am.shape[0]):\n",
    "    accesses_per_user.append(np.count_nonzero(am[i]))\n",
    "plt.hist(accesses_per_user,bins=list(range(0,100,1)))\n",
    "plt.xlabel('# of permission groups')\n",
    "plt.ylabel('# of users')"
   ]
  },
  {
   "cell_type": "code",
   "execution_count": 6,
   "id": "6df53bf3",
   "metadata": {},
   "outputs": [
    {
     "name": "stdout",
     "output_type": "stream",
     "text": [
      "{0: 4735, 1: 2432, 2: 8830, 3: 3913, 4: 3579, 5: 2581, 6: 1703, 7: 1160, 8: 916, 9: 737, 10: 661, 11: 531, 12: 534, 13: 450, 14: 391, 15: 383, 16: 316, 17: 273, 18: 220, 19: 180, 20: 201, 21: 152, 22: 136, 23: 149, 24: 117, 25: 106, 26: 92, 27: 79, 28: 68, 29: 61, 30: 68, 31: 40, 32: 40, 33: 37, 34: 16, 35: 25, 36: 18, 37: 20, 38: 13, 39: 14, 40: 14, 41: 11, 42: 14, 43: 5, 44: 5, 45: 4, 46: 4, 47: 2, 48: 3, 49: 3, 50: 1, 51: 4, 53: 2, 54: 1, 56: 2, 57: 2, 58: 4, 65: 1, 67: 1, 71: 1, 87: 1, 99: 1}\n"
     ]
    }
   ],
   "source": [
    "counts = Counter(accesses_per_user)\n",
    "print(dict(sorted(counts.items())))"
   ]
  },
  {
   "cell_type": "markdown",
   "id": "8187e918",
   "metadata": {},
   "source": [
    "The analysis, made above, shows, that there are a lot of users (4735) in the dataset, that do not have any access rights. They can be clearly defined as outliers for our unsupervised learning approach. As our intended algorithm is based on the similarity between users access rights and/ or the membership of different users in permission groups, this would clearly not work well for users without access rights. As a result we will strip the dataset from all rows containing only zeros. This is also sensible in the context of a possible usecase for our algorithm, as it does not seem wise to automatically grant a user access, that was not primarily known to the system before and does not have any access rights. In my opinion, the same argument is true for users with a very small amount of access rights. Here our algorithm would also perform poorly, because for the example of a user with only one permission group there could be 9116 different groups to choose and we have only around 2400 users with a single group. There is no chance that an algorithm based on similarity can possibly differentitate between the single groups. As a result, we will focus our work on users with more or equal to ten permission groups.\n",
    "\n",
    "The upper boundary for our analysis regarding the amount of permission groups can also be analyzed using the above plots. As their are only very few users having more than 30 permission groups our algorithm would have a hard time to find similar users for users like that. For this reason we will concentrate our further work on users with a maximum of 30 permission groups."
   ]
  },
  {
   "cell_type": "code",
   "execution_count": 118,
   "id": "6842742a",
   "metadata": {},
   "outputs": [
    {
     "data": {
      "text/plain": [
       "Text(0, 0.5, '# of users')"
      ]
     },
     "execution_count": 118,
     "metadata": {},
     "output_type": "execute_result"
    },
    {
     "data": {
      "image/png": "[encoded data removed]",
      "text/plain": [
       "<Figure size 432x288 with 1 Axes>"
      ]
     },
     "metadata": {
      "needs_background": "light"
     },
     "output_type": "display_data"
    }
   ],
   "source": [
    "plt.hist(accesses_per_user,bins=list(range(10,30,1)))\n",
    "plt.xlabel('# of permission groups')\n",
    "plt.ylabel('# of users')"
   ]
  },
  {
   "cell_type": "markdown",
   "id": "bc02076a",
   "metadata": {},
   "source": [
    "As a result the distribution of the number of permission groups per user in our cleaned dataset is a lot more homogenious and therefore more appropriate as an input for our algorithm.\n",
    "\n",
    "The same argumentation is true for permission groups with none or only a small amount of users, as well as permission groups with a huge amount of users, which is why we also limited them to a range of 10 to 62 users per group.\n",
    "\n",
    "\n",
    "\n"
   ]
  },
  {
   "cell_type": "code",
   "execution_count": 126,
   "id": "5f44eecc",
   "metadata": {},
   "outputs": [
    {
     "name": "stdout",
     "output_type": "stream",
     "text": [
      "{0: 3069, 1: 760, 2: 623, 3: 522, 4: 371, 5: 359, 6: 325, 7: 311, 8: 266, 9: 226, 10: 187, 11: 175, 12: 124, 13: 128, 14: 111, 15: 89, 16: 60, 17: 83, 18: 54, 19: 64, 20: 52, 21: 38, 22: 45, 23: 36, 24: 36, 25: 44, 26: 23, 27: 30, 28: 21, 29: 25, 30: 31, 31: 19, 32: 29, 33: 28, 34: 16, 35: 21, 36: 11, 37: 13, 38: 18, 39: 17, 40: 15, 41: 11, 42: 12, 43: 12, 44: 9, 45: 19, 46: 10, 47: 15, 48: 12, 49: 7, 50: 19, 51: 8, 52: 10, 53: 13, 54: 8, 55: 6, 56: 10, 57: 7, 58: 7, 59: 13, 60: 6, 61: 5, 62: 5, 63: 8, 64: 8, 65: 7, 66: 5, 67: 6, 68: 4, 69: 7, 70: 5, 71: 4, 72: 5, 73: 7, 74: 3, 76: 4, 77: 4, 78: 4, 79: 1, 80: 6, 81: 6, 82: 5, 83: 2, 84: 2, 85: 7, 86: 2, 87: 4, 88: 6, 89: 3, 90: 5, 91: 4, 92: 5, 93: 1, 94: 1, 95: 4, 96: 3, 97: 2, 98: 5, 99: 4, 100: 3, 101: 2, 102: 1, 103: 1, 104: 4, 105: 4, 106: 1, 107: 4, 108: 2, 109: 3, 110: 1, 111: 1, 112: 1, 113: 1, 114: 4, 115: 1, 116: 2, 117: 5, 118: 2, 120: 3, 121: 2, 122: 2, 123: 2, 124: 2, 125: 2, 126: 3, 127: 1, 128: 1, 130: 2, 131: 1, 132: 3, 133: 1, 134: 1, 135: 3, 136: 1, 138: 3, 139: 2, 140: 1, 141: 1, 142: 1, 143: 2, 144: 3, 145: 2, 147: 1, 148: 1, 150: 1, 151: 3, 152: 1, 153: 2, 154: 2, 157: 2, 158: 1, 162: 1, 163: 1, 164: 1, 165: 1, 166: 1, 167: 1, 170: 3, 174: 2, 178: 1, 179: 1, 183: 1, 186: 1, 187: 1, 188: 2, 192: 1, 193: 1, 196: 1, 197: 1, 206: 2, 209: 1, 210: 2, 211: 1, 213: 1, 215: 1, 217: 1, 219: 1, 223: 1, 226: 3, 236: 1, 237: 1, 241: 1, 242: 1, 243: 1, 245: 1, 249: 1, 250: 1, 255: 1, 256: 1, 257: 1, 258: 1, 260: 2, 267: 1, 269: 1, 270: 1, 278: 1, 286: 1, 290: 1, 296: 1, 299: 1, 301: 1, 303: 1, 309: 1, 312: 1, 319: 1, 322: 1, 329: 1, 330: 1, 336: 1, 342: 1, 344: 1, 345: 1, 350: 2, 352: 1, 356: 1, 360: 1, 375: 1, 378: 1, 383: 1, 396: 1, 398: 1, 401: 1, 402: 1, 408: 1, 436: 1, 446: 1, 452: 1, 457: 1, 466: 1, 504: 1, 511: 2, 514: 1, 519: 1, 524: 1, 541: 1, 542: 1, 560: 1, 561: 1, 568: 1, 571: 1, 576: 1, 586: 1, 587: 1, 589: 1, 594: 1, 598: 1, 604: 1, 615: 1, 634: 1, 655: 1, 662: 1, 677: 1, 703: 1, 704: 1, 715: 1, 721: 1, 723: 1, 739: 1, 741: 1, 749: 1, 788: 1, 811: 1, 830: 1, 937: 1, 947: 1, 985: 1, 1017: 1, 1041: 1, 1050: 1, 1075: 1, 1132: 1, 1155: 1, 1161: 1, 1165: 1, 1231: 1, 1290: 1, 1300: 1, 1341: 1, 1526: 1, 1551: 1, 1570: 1, 1639: 1, 1644: 1, 1727: 1, 1845: 1, 1999: 1, 2001: 1, 2116: 1, 2140: 1, 2157: 1, 2327: 1, 2514: 1, 3087: 1, 3249: 1, 3880: 1, 3882: 1}\n"
     ]
    },
    {
     "data": {
      "image/png": "[encoded data removed]",
      "text/plain": [
       "<Figure size 432x288 with 1 Axes>"
      ]
     },
     "metadata": {
      "needs_background": "light"
     },
     "output_type": "display_data"
    }
   ],
   "source": [
    "user_per_group = []\n",
    "for i in range(am.shape[1]):\n",
    "    user_per_group.append(np.count_nonzero(am[:,i]))\n",
    "plt.hist(user_per_group,bins=list(range(0,500,1)))\n",
    "plt.xlabel('# of users')\n",
    "plt.ylabel('# of permission groups')\n",
    "\n",
    "counts = Counter(user_per_group)\n",
    "print(dict(sorted(counts.items())))"
   ]
  },
  {
   "cell_type": "code",
   "execution_count": 128,
   "id": "2624012b",
   "metadata": {},
   "outputs": [
    {
     "data": {
      "text/plain": [
       "Text(0, 0.5, '# of permission groups')"
      ]
     },
     "execution_count": 128,
     "metadata": {},
     "output_type": "execute_result"
    },
    {
     "data": {
      "image/png": "[encoded data removed]",
      "text/plain": [
       "<Figure size 432x288 with 1 Axes>"
      ]
     },
     "metadata": {
      "needs_background": "light"
     },
     "output_type": "display_data"
    }
   ],
   "source": [
    "user_per_group = []\n",
    "for i in range(am.shape[1]):\n",
    "    user_per_group.append(np.count_nonzero(am[:,i]))\n",
    "plt.hist(user_per_group,bins=list(range(10,62,1)))\n",
    "plt.xlabel('# of users')\n",
    "plt.ylabel('# of permission groups')"
   ]
  },
  {
   "cell_type": "markdown",
   "id": "d8d23bc7",
   "metadata": {},
   "source": [
    "In summary our analysis is centered on the region between 10 and 30 permission groups and 10 and 62 users, which leaves enough space for possible uses cases of the algorithm and should substantially improve the algorithms performance. Due to these contraints, there will be a remaining dataset of 5166 users and 1525 permission groups.\n",
    "\n",
    "Due to our operation, that removed specific users, the initial row and column indices were changed. We will create a mapping table for the transfer between the old and the new indices to make future analysis using additional data from the original dataset possible. Interesting data from the original dataset could for example be the user attributes, which have been used literature regarding this dataset. "
   ]
  },
  {
   "cell_type": "code",
   "execution_count": 114,
   "id": "f9d28e55",
   "metadata": {},
   "outputs": [],
   "source": [
    "def indmap(old_array,axis,removed_ind):\n",
    "    # Function mapping indices from old to new dataset\n",
    "    out = dict() # dict with key old index and value new index\n",
    "    k=0\n",
    "    for i in range(old_array.shape[axis]):\n",
    "        if k>=len(removed_ind):\n",
    "            break\n",
    "        elif i<removed_ind[k]:\n",
    "            out[i]=i\n",
    "        elif i == removed_ind[k]:\n",
    "            out[i]=None\n",
    "            k+=1\n",
    "        else:\n",
    "            out[i]=i-(k+1)\n",
    "    return(out)"
   ]
  },
  {
   "cell_type": "code",
   "execution_count": 129,
   "id": "85f4cac7",
   "metadata": {},
   "outputs": [
    {
     "name": "stdout",
     "output_type": "stream",
     "text": [
      "(5166, 1525)\n"
     ]
    }
   ],
   "source": [
    "accesses_per_user = []\n",
    "for i in range(am.shape[0]):\n",
    "    accesses_per_user.append(np.count_nonzero(am[i]))\n",
    "\n",
    "rem_ind = []\n",
    "for i in range(len(accesses_per_user)):\n",
    "    if accesses_per_user[i] < 10 or accesses_per_user[i] > 30:\n",
    "        rem_ind.append(i)\n",
    "ram = np.delete(am, rem_ind, axis=0)\n",
    "\n",
    "map0a = indmap(am, 0,rem_ind)\n",
    "\n",
    "###############\n",
    "\n",
    "user_per_group = []\n",
    "for i in range(ram.shape[1]):\n",
    "    user_per_group.append(np.count_nonzero(ram[:,i]))\n",
    "\n",
    "rem_ind_col = []\n",
    "for i in range(len(user_per_group)):\n",
    "    if user_per_group[i] < 10 or accesses_per_user[i] > 62:\n",
    "        rem_ind_col.append(i)\n",
    "\n",
    "map1a = indmap(ram,1,rem_ind_col)\n",
    "\n",
    "ram = np.delete(ram, rem_ind_col, axis=1)\n",
    "\n",
    "\n",
    "\n",
    "################ Final round, removing only new zeros, which appeared due to the cleaning steps before\n",
    "\n",
    "accesses_per_user = []\n",
    "for i in range(ram.shape[0]):\n",
    "    accesses_per_user.append(np.count_nonzero(ram[i]))\n",
    "rem_ind = []\n",
    "for i in range(len(accesses_per_user)):\n",
    "    if accesses_per_user[i] == 0:\n",
    "        rem_ind.append(i)\n",
    "                \n",
    "map0b = indmap(ram,0,rem_ind)\n",
    "        \n",
    "ram = np.delete(ram, rem_ind, axis=0)\n",
    "\n",
    "################\n",
    "\n",
    "user_per_group = []\n",
    "for i in range(ram.shape[1]):\n",
    "    user_per_group.append(np.count_nonzero(ram[:,i]))\n",
    "rem_ind_col = []\n",
    "for i in range(len(user_per_group)):\n",
    "    if user_per_group[i] == 0:\n",
    "        rem_ind_col.append(i)\n",
    "        \n",
    "map1b = indmap(ram,1,rem_ind_col)\n",
    "        \n",
    "ram = np.delete(ram, rem_ind_col, axis=1)\n",
    "print(ram.shape)"
   ]
  },
  {
   "cell_type": "markdown",
   "id": "a200216d",
   "metadata": {},
   "source": [
    "## Correlation Analysis"
   ]
  },
  {
   "cell_type": "markdown",
   "id": "88492c06",
   "metadata": {},
   "source": [
    "Before doing the train-test split, we will inspect the data in more detail. First of all, we will have a look at the distribution of zeros and ones or access and no access in our data. When doing that, we see, that each user has only access to about 0,3% of all permission groups. We have to keep that in mind, when building our model on user-user similarity metrics, as this consitutes a highly unbalanced dataset. So predicting always zero would lead to a nearly perfect accuracy, while being obviously not the optimal solution. The same is true for item-item similarity, which in detail means, that only about 3,2% of users have access to a specific permission group. So the data is also highly unbalanced in this dimension."
   ]
  },
  {
   "cell_type": "code",
   "execution_count": 130,
   "id": "51587781",
   "metadata": {},
   "outputs": [
    {
     "name": "stdout",
     "output_type": "stream",
     "text": [
      "0.00282849263362878\n",
      "0.0324581802980083\n"
     ]
    }
   ],
   "source": [
    "c = []\n",
    "d = []\n",
    "for i in range(ram.shape[0]):\n",
    "    c.append(np.count_nonzero(ram[i])-np.count_nonzero(np.isnan(ram[i])))\n",
    "print(np.mean(c)/(0.9*ram.shape[0]))\n",
    "for i in range(ram.shape[1]):\n",
    "    d.append(np.count_nonzero(ram[:,i])-np.count_nonzero(np.isnan(ram[:,i])))\n",
    "print(np.mean(d)/(0.9*ram.shape[1]))"
   ]
  },
  {
   "cell_type": "markdown",
   "id": "cc109908",
   "metadata": {},
   "source": [
    "It is not sensible for a dataset with as many features as ours to plot a correlation matrix. However, we comput the correlation matrix between users, based on the Pearson Correlation Coefficient for the whole dataset. The output shows the combination of indices with a correlation coefficient of \"1\". This means, that there are 316 combinations of users with the exact same permission groups. This makes sense in an organizational sense for the company and should help our algorithm in performing well. The same is true for the other dimension of the data, which means in detail, that there are 104 combinations of groups, which contain the exact same users (correlation of 1)."
   ]
  },
  {
   "cell_type": "code",
   "execution_count": 136,
   "id": "85aea8ca",
   "metadata": {},
   "outputs": [
    {
     "name": "stdout",
     "output_type": "stream",
     "text": [
      "[[ 1.         -0.00820475 -0.00653649 ... -0.00857241 -0.00959376\n",
      "  -0.0105199 ]\n",
      " [-0.00820475  1.         -0.00578824 ... -0.0075911  -0.00849553\n",
      "  -0.00931565]\n",
      " [-0.00653649 -0.00578824  1.         ... -0.00604762 -0.00676815\n",
      "  -0.00742152]\n",
      " ...\n",
      " [-0.00857241 -0.0075911  -0.00604762 ...  1.          0.29192919\n",
      "   0.19641918]\n",
      " [-0.00959376 -0.00849553 -0.00676815 ...  0.29192919  1.\n",
      "   0.11215479]\n",
      " [-0.0105199  -0.00931565 -0.00742152 ...  0.19641918  0.11215479\n",
      "   1.        ]]\n",
      "316\n"
     ]
    }
   ],
   "source": [
    "user_user_cor = np.corrcoef(ram)\n",
    "print(user_user_cor)\n",
    "np.fill_diagonal(user_user_cor, 0)\n",
    "print(len(list(zip(*np.where(user_user_cor == user_user_cor.max())))))"
   ]
  },
  {
   "cell_type": "code",
   "execution_count": 137,
   "id": "5b318c6c",
   "metadata": {},
   "outputs": [
    {
     "name": "stdout",
     "output_type": "stream",
     "text": [
      "[[ 1.         -0.00844639 -0.00486421 ... -0.00426495 -0.00467293\n",
      "   0.40884884]\n",
      " [-0.00844639  1.         -0.00438069 ... -0.003841   -0.00420842\n",
      "  -0.003841  ]\n",
      " [-0.00486421 -0.00438069  1.         ... -0.002212   -0.00242359\n",
      "  -0.002212  ]\n",
      " ...\n",
      " [-0.00426495 -0.003841   -0.002212   ...  1.         -0.00212501\n",
      "  -0.00193949]\n",
      " [-0.00467293 -0.00420842 -0.00242359 ... -0.00212501  1.\n",
      "  -0.00212501]\n",
      " [ 0.40884884 -0.003841   -0.002212   ... -0.00193949 -0.00212501\n",
      "   1.        ]]\n",
      "104\n"
     ]
    }
   ],
   "source": [
    "item_item_cor = np.corrcoef(ram,rowvar=False)\n",
    "print(item_item_cor)\n",
    "np.fill_diagonal(item_item_cor, 0)\n",
    "print(len(list(zip(*np.where(item_item_cor == item_item_cor.max())))))"
   ]
  },
  {
   "cell_type": "markdown",
   "id": "87d564db",
   "metadata": {},
   "source": [
    "## Train/ Test Split and Transformation"
   ]
  },
  {
   "cell_type": "markdown",
   "id": "2dd11621",
   "metadata": {},
   "source": [
    "In the following, we will perform a train-test split on the data by removing the access information for a random combination of user and permission group. These access information will be stored separately from the training data. We will use a data format, that is similar to the one, used in the week three movie rating recommender system. This will allow us to use an adapted version of its recommender system class. As we have to differentiate in our sparse access matrix between no access and no data, we will have to transform the no access values to \"-1\". Other transformations are not necessary, as we are working on binary input data."
   ]
  },
  {
   "cell_type": "code",
   "execution_count": 15,
   "id": "9191e5e3",
   "metadata": {},
   "outputs": [
    {
     "data": {
      "text/html": [
       "<div>\n",
       "<style scoped>\n",
       "    .dataframe tbody tr th:only-of-type {\n",
       "        vertical-align: middle;\n",
       "    }\n",
       "\n",
       "    .dataframe tbody tr th {\n",
       "        vertical-align: top;\n",
       "    }\n",
       "\n",
       "    .dataframe thead th {\n",
       "        text-align: right;\n",
       "    }\n",
       "</style>\n",
       "<table border=\"1\" class=\"dataframe\">\n",
       "  <thead>\n",
       "    <tr style=\"text-align: right;\">\n",
       "      <th></th>\n",
       "      <th>uid</th>\n",
       "      <th>aid</th>\n",
       "      <th>status</th>\n",
       "    </tr>\n",
       "  </thead>\n",
       "  <tbody>\n",
       "    <tr>\n",
       "      <th>6988262</th>\n",
       "      <td>4582</td>\n",
       "      <td>712</td>\n",
       "      <td>-1</td>\n",
       "    </tr>\n",
       "    <tr>\n",
       "      <th>5071494</th>\n",
       "      <td>3325</td>\n",
       "      <td>869</td>\n",
       "      <td>-1</td>\n",
       "    </tr>\n",
       "    <tr>\n",
       "      <th>7234520</th>\n",
       "      <td>4743</td>\n",
       "      <td>1445</td>\n",
       "      <td>-1</td>\n",
       "    </tr>\n",
       "    <tr>\n",
       "      <th>5535510</th>\n",
       "      <td>3629</td>\n",
       "      <td>1285</td>\n",
       "      <td>-1</td>\n",
       "    </tr>\n",
       "    <tr>\n",
       "      <th>1851870</th>\n",
       "      <td>1214</td>\n",
       "      <td>520</td>\n",
       "      <td>-1</td>\n",
       "    </tr>\n",
       "  </tbody>\n",
       "</table>\n",
       "</div>"
      ],
      "text/plain": [
       "          uid   aid  status\n",
       "6988262  4582   712      -1\n",
       "5071494  3325   869      -1\n",
       "7234520  4743  1445      -1\n",
       "5535510  3629  1285      -1\n",
       "1851870  1214   520      -1"
      ]
     },
     "execution_count": 15,
     "metadata": {},
     "output_type": "execute_result"
    }
   ],
   "source": [
    "uid = []\n",
    "aid = []\n",
    "a_val = []\n",
    "\n",
    "for i in range(ram.shape[0]):\n",
    "    for j in range(ram.shape[1]):\n",
    "        uid.append(i)\n",
    "        aid.append(j)\n",
    "        a_val.append(ram[i,j])\n",
    "total = np.array([uid,aid,a_val]).T\n",
    "total = pd.DataFrame(total,columns=('uid','aid','status'))\n",
    "total['status'] = total['status'].map({0: int(-1), 1: 1})\n",
    "\n",
    "train, test = train_test_split(total, test_size=0.1, random_state=42)\n",
    "\n",
    "train.head()"
   ]
  },
  {
   "cell_type": "markdown",
   "id": "23642848",
   "metadata": {},
   "source": [
    "As a final step of our EDA procedure we produced our train and test datasets, later used in model building and training or analysis respectively."
   ]
  },
  {
   "cell_type": "markdown",
   "id": "10692aa2",
   "metadata": {},
   "source": [
    "# Model Building"
   ]
  },
  {
   "cell_type": "markdown",
   "id": "cac0de95",
   "metadata": {},
   "source": [
    "## Recommender System"
   ]
  },
  {
   "cell_type": "markdown",
   "id": "3cd8cac0",
   "metadata": {},
   "source": [
    "In the following we will use an adapted form of the recommender system class from the week three assignment of this course. First we had to change the context and used dimension of the algorithm, which also implied slight changes in the matrix multiplication steps. However, must of the algorithm is still based on the content, outlined in week three. Furthermore, we have added a method to get the confusion matrix for our models, as a way to assess its performance."
   ]
  },
  {
   "cell_type": "code",
   "execution_count": 146,
   "id": "4b5e6267",
   "metadata": {},
   "outputs": [],
   "source": [
    "from sklearn.metrics import pairwise_distances\n",
    "\n",
    "class RecSys():\n",
    "    def __init__(self,ram,train,test):\n",
    "        self.train = train\n",
    "        self.test = test\n",
    "        self.allusers = list(range(ram.shape[0]))\n",
    "        self.allaccess = list(range(ram.shape[1]))\n",
    "        self.Mr=self.rating_matrix()\n",
    "        self.sim=np.zeros((len(self.allaccess),len(self.allaccess)))\n",
    "        \n",
    "        \n",
    "    def rating_matrix(self):\n",
    "        \"\"\"\n",
    "        Convert the rating matrix to numpy array of shape (#allusers,#allmovies)\n",
    "        \"\"\"\n",
    "        ind_access = [x for x in self.train.aid] \n",
    "        ind_user = [x for x in self.train.uid]\n",
    "        access_train = self.train.status\n",
    "        \n",
    "        return np.array(coo_matrix((access_train, (ind_user, ind_access)), shape=(len(self.allusers), len(self.allaccess))).toarray())\n",
    "\n",
    "\n",
    "    def predict_everything_to_0(self):\n",
    "        \"\"\"\n",
    "        Predict everything to 0 for the test data\n",
    "        \"\"\"\n",
    "        return(np.array([0]*len(self.test)))\n",
    "        \n",
    "    def predict_everything_to_1(self):\n",
    "        \"\"\"\n",
    "        Predict everything to 1 for the test data\n",
    "        \"\"\"\n",
    "        return(np.array([1]*len(self.test))) \n",
    "       \n",
    "    def predict_to_group_average(self):\n",
    "        \"\"\"\n",
    "        Predict to average rating for the user.\n",
    "        Returns numpy array of shape (#groups,)\n",
    "        \"\"\"\n",
    "        # Generate an array as follows:\n",
    "        # 1. Calculate all avg access as sum of accesses of group across all users with access != 0\n",
    "        # 2. Return the average access of groups in test data\n",
    "        # your code here\n",
    "         \n",
    "        # self.Mr!=0 idea copied from: https://stackoverflow.com/questions/38542548/numpy-mean-of-nonzero-values\n",
    "        means = self.Mr.sum(axis=0)/(self.Mr!=0).sum(axis=0)\n",
    "        out = [means[x] for x in list(self.test['aid'])]\n",
    "        return(np.array(out))  \n",
    "    \n",
    "    def predict_from_sim(self,uid,aid):\n",
    "        \"\"\"\n",
    "        Predict a user rating on a movie given userID and movieID\n",
    "        \"\"\"\n",
    "        # Predict user rating as follows:\n",
    "        # 1. Get entry of user id in rating matrix\n",
    "        # 2. Get entry of movie id in sim matrix\n",
    "        # 3. Employ 1 and 2 to predict user rating of the movie\n",
    "        # your code here\n",
    "        return(np.dot(self.Mr[:,aid],self.sim[uid])/np.dot(self.sim[uid],self.Mr[:,aid]!=0))\n",
    "        pass\n",
    "    \n",
    "    def predict(self):\n",
    "        \"\"\"\n",
    "        Predict ratings in the test data. Returns predicted rating in a numpy array of size (# of rows in testdata,)\n",
    "        \"\"\"\n",
    "        # your code here\n",
    "        out = []\n",
    "        for a,b in zip(list(self.test['uid']),list(self.test['aid'])):\n",
    "            out.append(self.predict_from_sim(a,b))\n",
    "        return(np.array(out))\n",
    "        pass\n",
    "    \n",
    "    def rmse(self,yp):\n",
    "        yt=np.array(self.test.status)\n",
    "        return np.sqrt(((yt-yp)**2).mean())\n",
    "    \n",
    "    def conf_matr(self,yp):\n",
    "        yt=np.array(self.test.status)\n",
    "        fp=0\n",
    "        tp=0\n",
    "        fn=0\n",
    "        tn=0\n",
    "        for p,t in zip(yp,yt):\n",
    "            if p<0:\n",
    "                p=-1\n",
    "            else:\n",
    "                p=1\n",
    "            \n",
    "            if p==1 and p!=t:\n",
    "                fp+=1\n",
    "            elif p==1 and p==t:\n",
    "                tp+=1\n",
    "            elif p==-1 and p!=t:\n",
    "                fn+=1\n",
    "            elif p==-1 and p==t:\n",
    "                tn+=1\n",
    "        return('False positives: ',fp, 'True positives: ',tp,'False negatives: ',fn,'True negatives: ',tn,)\n",
    "                \n",
    "class Collaborative(RecSys):    \n",
    "    def __init__(self,ram,train,test):\n",
    "        super().__init__(ram,train,test)\n",
    "        \n",
    "    def calc_item_item_similarity(self, simfunction, *X):  \n",
    "        \"\"\"\n",
    "        Create item-item similarity using similarity function. \n",
    "        X is an optional transformed matrix of Mr\n",
    "        \"\"\"    \n",
    "        # General function that calculates item-item similarity based on the sim function and data inputed\n",
    "        if len(X)==0:\n",
    "            self.sim = simfunction()            \n",
    "        else:\n",
    "            self.sim = simfunction(X[0]) # *X passes in a tuple format of (X,), to X[0] will be the actual transformed matrix\n",
    "            \n",
    "    def cossim(self):    \n",
    "        \"\"\"\n",
    "        Calculates item-item similarity for all pairs of items using cosine similarity (values from 0 to 1) on utility matrix\n",
    "        Returns a cosine similarity matrix of size (#all movies, #all movies)\n",
    "        \"\"\"\n",
    "        # Return a sim matrix by calculating item-item similarity for all pairs of items using Jaccard similarity\n",
    "        # Cosine Similarity: C(A, B) = (A.B) / (||A||.||B||) \n",
    "        # your code here\n",
    "        \n",
    "        #Code according to resources tab\n",
    "        \n",
    "        access_allUsers = self.Mr.sum(axis=1)/(self.Mr!=0).sum(axis=1)\n",
    "                        \n",
    "        acc_avg = self.Mr/np.repeat(np.expand_dims(np.sqrt((self.Mr**2).sum(axis=1)),axis=1),self.Mr.shape[1],axis=1)\n",
    "                \n",
    "        acc_avg[np.isnan(acc_avg)] = 0\n",
    "                \n",
    "        cos = np.dot(acc_avg, acc_avg.T) # We have already divided by the L2-Norm before, so division is not necessary here\n",
    "                \n",
    "        for i in range(len(self.allusers)):\n",
    "                cos[i, i] = 1\n",
    "                \n",
    "        return(0.5+0.5*cos)\n",
    "    \n",
    "    def jacsim(self,Xr):\n",
    "        \"\"\"\n",
    "        Calculates item-item similarity for all pairs of items using jaccard similarity (values from 0 to 1)\n",
    "        Xr is the transformed rating matrix.\n",
    "        \"\"\"    \n",
    "        # Return a sim matrix by calculating item-item similarity for all pairs of items using Jaccard similarity\n",
    "        # Jaccard Similarity: J(A, B) = |A∩B| / |A∪B| \n",
    "        # your code here\n",
    "        \n",
    "        # code adapted from resources tab\n",
    "        \n",
    "        n = Xr.shape[0]\n",
    "        maxr = int(Xr.max())\n",
    "        #if maxr>=1:\n",
    "        intersection = np.zeros((n,n)).astype(int)\n",
    "        for i in range(-1, maxr+1):\n",
    "            csr = csr_matrix((Xr==i).astype(int))\n",
    "            intersection = intersection + np.array(csr.dot(csr.T).toarray()).astype(int)    \n",
    "        \n",
    "        #Convert Xr into a CSR format\n",
    "        csr0 = csr_matrix((Xr!=0).astype(int))\n",
    "        \n",
    "        #Take the dot product\n",
    "        nz_inter = np.array(csr0.dot(csr0.T).toarray()).astype(int)   \n",
    "        \n",
    "        # Formula JS:\n",
    "        A = (Xr!=0).astype(bool)\n",
    "        rowsum = A.sum(axis=1)\n",
    "        rsumtile = np.repeat(rowsum.reshape((n,1)),n,axis=1)   \n",
    "        union = rsumtile.T + rsumtile - nz_inter\n",
    "        \n",
    "        out = intersection / union\n",
    "        \n",
    "        out[np.isnan(out)] = 0\n",
    "        for i in range(len(self.allusers)):\n",
    "                out[i, i] = 1\n",
    "        # Perform the two boundary checks:-\n",
    "        #  - since dividing by magnitude may produce inf, zeros, etc. Set nans to 0.\n",
    "        #  - Covariance/correlation values for np.dot([M.T, M]) matrix should have \n",
    "        #    diagonal set to 1.\n",
    "        return(out)\n",
    "    \n",
    "    "
   ]
  },
  {
   "cell_type": "code",
   "execution_count": 147,
   "id": "b7388ca3",
   "metadata": {},
   "outputs": [
    {
     "name": "stdout",
     "output_type": "stream",
     "text": [
      "similarity calculation time 0.5967128299998876\n",
      "[-0.99657387 -0.99311475 -0.98507362 ... -0.97273642 -0.99144516\n",
      " -0.99657724]\n",
      "('False positives: ', 0, 'True positives: ', 0, 'False negatives: ', 6900, 'True negatives: ', 780915)\n"
     ]
    }
   ],
   "source": [
    "cf = Collaborative(ram,train,test)\n",
    "Xr = cf.Mr.astype(int)\n",
    "t0=time.perf_counter()\n",
    "cf.calc_item_item_similarity(cf.cossim)#,Xr)\n",
    "t1=time.perf_counter()\n",
    "time_sim = t1-t0\n",
    "print('similarity calculation time',time_sim)\n",
    "yp = cf.predict()\n",
    "print(yp)\n",
    "print(cf.conf_matr(yp))"
   ]
  },
  {
   "cell_type": "code",
   "execution_count": 150,
   "id": "af52c031",
   "metadata": {},
   "outputs": [
    {
     "name": "stdout",
     "output_type": "stream",
     "text": [
      "-0.2185679502587226\n",
      "[[1.         0.94124492 0.93165308 ... 0.93909368 0.93200183 0.93225557]\n",
      " [0.94124492 1.         0.9425761  ... 0.94264793 0.93960254 0.94161049]\n",
      " [0.93165308 0.9425761  1.         ... 0.9371506  0.93367911 0.93393078]\n",
      " ...\n",
      " [0.93909368 0.94264793 0.9371506  ... 1.         0.94287965 0.93912115]\n",
      " [0.93200183 0.93960254 0.93367911 ... 0.94287965 1.         0.93750286]\n",
      " [0.93225557 0.94161049 0.93393078 ... 0.93912115 0.93750286 1.        ]]\n",
      "(5166, 5166)\n"
     ]
    }
   ],
   "source": [
    "print(max(yp))\n",
    "print(cf.sim)\n",
    "print(cf.sim.shape)"
   ]
  },
  {
   "cell_type": "markdown",
   "id": "05351765",
   "metadata": {},
   "source": [
    "We can clearly see from the results, that the recommender system, based on collaborative filtering, is always predicting zero or no-access, because of the strong inbalance in the dataset, that yields to constantly high similiarity values (compare output above). This is obviously not a great result, as no machine learning model is necesssary to come to that conclusion. However, it strongly illustrates the negative aspects of classical collaborative filtering. It is not able to deal with unbalanced data. We could shift the decision boundary between access and no access more into the region of no access to alter the result, as the maximum predicted value is currently -0.21. However, this approach would not be universally valid for different dataset. Instead we will next test the method using jaccard distance instead of cosine similiarity to confirm, that this does not change the results and then move on to another unsupervised approach, that will hopefully yield more useful results. We do not do any hyperparamter optimization in this step, as both cosine and jaccard similiarity do not have such parameters."
   ]
  },
  {
   "cell_type": "code",
   "execution_count": 151,
   "id": "636ff9c0",
   "metadata": {},
   "outputs": [
    {
     "name": "stdout",
     "output_type": "stream",
     "text": [
      "similarity calculation time 109.29025256499881\n",
      "[-0.99657539 -0.9931064  -0.98510407 ... -0.97274589 -0.99142826\n",
      " -0.99657988]\n",
      "('False positives: ', 0, 'True positives: ', 0, 'False negatives: ', 6900, 'True negatives: ', 780915)\n",
      "[[1.         0.82792852 0.79933993 ... 0.82571239 0.80474934 0.81427627]\n",
      " [0.82792852 1.         0.83090186 ... 0.8322325  0.8287037  0.83531746]\n",
      " [0.79933993 0.83090186 1.         ... 0.81800132 0.80343008 0.8129544 ]\n",
      " ...\n",
      " [0.82571239 0.8322325  0.81800132 ... 1.         0.83300199 0.82201714]\n",
      " [0.80474934 0.8287037  0.80343008 ... 0.83300199 1.         0.82594308]\n",
      " [0.81427627 0.83531746 0.8129544  ... 0.82201714 0.82594308 1.        ]]\n"
     ]
    }
   ],
   "source": [
    "cf2 = Collaborative(ram,train,test)\n",
    "Xr = cf2.Mr.astype(int)\n",
    "t0=time.perf_counter()\n",
    "cf2.calc_item_item_similarity(cf2.jacsim,Xr)\n",
    "t1=time.perf_counter()\n",
    "time_sim = t1-t0\n",
    "print('similarity calculation time',time_sim)\n",
    "yp = cf2.predict()\n",
    "print(yp)\n",
    "print(cf2.conf_matr(yp))\n",
    "print(cf2.sim)"
   ]
  },
  {
   "cell_type": "markdown",
   "id": "24bc7d03",
   "metadata": {},
   "source": [
    "We see, that using jaccard similiarity as a metric yields the same results. So, the lesson learned from this part of the project is, that recommender systems in the classical sense are not suitable for highly unbalanced data. In case of of a multi-class classification problem we could have maybe removed the most frequent and therefore obvious class to receive a valid recommender system. However, removing a class in a binary classification problem is not an option. As stated before we will move on and try to check the suitability of unsupervised assocation rule mining on our dataset."
   ]
  },
  {
   "cell_type": "markdown",
   "id": "e66224a5",
   "metadata": {},
   "source": [
    "## Unsupervised Frequent Itemset Analysis with Apriori - Algorithm"
   ]
  },
  {
   "cell_type": "markdown",
   "id": "849ab29d",
   "metadata": {},
   "source": [
    "Again the algorithm, used below, is adapted from the courses of the MSDS program. DTSA5505 gives a good overview of assocation rule learning and we will use the algorithm from this class as a starting point for our analysis. We had to adapt the algorithm in terms of its input data, as the original was only working for string type input. Furthermore, we used the ideas from [3] as an input to our analysis, as the workings of the Apriori Algorithm are clearly described there as well."
   ]
  },
  {
   "cell_type": "code",
   "execution_count": 69,
   "id": "c645280d",
   "metadata": {},
   "outputs": [],
   "source": [
    "# Algorithm adapted from DTSA5505 Week 1\n",
    "\n",
    "def findsubsets(s, n):\n",
    "    \n",
    "#   A helper function that you can use to list of all subsets of size n. Do not make any changes to this code block.\n",
    "#   Input: \n",
    "#       1. s - A python list of items\n",
    "#       2. n - Size of each subset\n",
    "#   Output:\n",
    "#       1. subsets - A python list containing the subsets of size n.\n",
    "    \n",
    "    subsets = list(sorted((itertools.combinations(s,n))))\n",
    "    return subsets\n",
    "\n",
    "def items_from_frequent_itemsets(frequent_itemset):\n",
    "\n",
    "#   A helper function that you can use to get the sorted items from the frequent itemsets. Do not make any changes\n",
    "#   to this code block\n",
    "#   Input:\n",
    "#       1. Frequent Itemsets\n",
    "#   Output:\n",
    "#       1. Sorted list of items\n",
    "\n",
    "    items = list()\n",
    "    for keys in frequent_itemset.keys():\n",
    "        try:\n",
    "            for item in list(keys):\n",
    "                items.append(item)\n",
    "        except:\n",
    "            items.append(keys)\n",
    "    return sorted(list(set(items)))\n",
    "\n",
    "def generate_frequent_itemsets(dataset, support, items, n=1, frequent_items={}):\n",
    "    \n",
    "#   Input:\n",
    "#       1. dataset - A python dictionary containing the transactions.\n",
    "#       2. support - A floating point variable representing the min_support value for the set of transactions.\n",
    "#       3. items - A python list representing all the items that are part of all the transactions.\n",
    "#       4. n - An integer variable representing what frequent item pairs to generate.\n",
    "#       5. frequent_items - A dictionary representing k-1 frequent sets. \n",
    "#   Output:\n",
    "#       1. frequent_itemsets - A dictionary representing the frequent itemsets and their corresponding support counts.\n",
    "    \n",
    "    len_transactions = len(dataset)\n",
    "    if n == 1:\n",
    "        frequent_items = {}\n",
    "        for item in items:\n",
    "            count = 0\n",
    "            for key, value in dataset.items():\n",
    "                if item in value:\n",
    "                    count += 1\n",
    "            if count >= len_transactions * support:\n",
    "                frequent_items[(item)] = count\n",
    "        return(frequent_items)\n",
    "    \n",
    "    else:\n",
    "        it = items_from_frequent_itemsets(frequent_items)\n",
    "        subsets = findsubsets(it,n)\n",
    "        \n",
    "        frequent_items = {}\n",
    "        for subset in subsets:\n",
    "            count = 0\n",
    "            for key, value in dataset.items():\n",
    "                if all(i in value for i in subset):\n",
    "                    count += 1\n",
    "            if count >= len_transactions * support:\n",
    "                frequent_items[subset] = count\n",
    "        return(frequent_items)"
   ]
  },
  {
   "cell_type": "markdown",
   "id": "ff7fb7da",
   "metadata": {},
   "source": [
    "To use the algorithm we first have to generate the items as an input for our market basket analysis with the Apriori algorithm. To this end, we will build a dictionary containing the IDs of all the permission groups for each user, as a key-value pair."
   ]
  },
  {
   "cell_type": "code",
   "execution_count": 70,
   "id": "7aed6879",
   "metadata": {},
   "outputs": [],
   "source": [
    "dataset = dict()\n",
    "for i in range(ram.shape[0]):\n",
    "    dataset[i] = list(np.where(ram[i] == 1)[0])\n",
    "items= list(range(ram.shape[1]))"
   ]
  },
  {
   "cell_type": "markdown",
   "id": "3f28fdda",
   "metadata": {},
   "source": [
    "We have said above, that, according to our analysis on average a user has only access to 0,3% of the 1525 analysed permission groups, which equals a permission group count of about 5, so we will first have a look whether there are frequent 5 itemsets. Furthermore we will use a support of 0.03, which means that a frequent itemset (permission group combination) must be present in 3% of users to be considered by the algorithm. This is our chosen support value because we learned above that a permission group contains 3% of all users on average."
   ]
  },
  {
   "cell_type": "code",
   "execution_count": 152,
   "id": "b33ad596",
   "metadata": {},
   "outputs": [
    {
     "name": "stdout",
     "output_type": "stream",
     "text": [
      "{(427, 830, 1102, 1159, 1268): 182, (427, 855, 1102, 1159, 1268): 159, (427, 904, 1102, 1159, 1268): 181, (805, 814, 1102, 1159, 1268): 160, (830, 904, 1102, 1159, 1268): 162, (855, 899, 1102, 1159, 1268): 172, (855, 904, 1102, 1159, 1268): 167, (855, 913, 1102, 1159, 1268): 171}\n",
      "{}\n"
     ]
    }
   ],
   "source": [
    "f1s = generate_frequent_itemsets(dataset, 0.03, items, n=1)\n",
    "f2s = generate_frequent_itemsets(dataset, 0.03, items, 2, f1s)\n",
    "f3s = generate_frequent_itemsets(dataset, 0.03, items, 3, f2s)\n",
    "f4s = generate_frequent_itemsets(dataset, 0.03, items, 4, f3s)\n",
    "f5s = generate_frequent_itemsets(dataset, 0.03, items, 5, f4s)\n",
    "print(f5s)\n",
    "f6s = generate_frequent_itemsets(dataset, 0.03, items, 6, f5s)\n",
    "print(f6s)"
   ]
  },
  {
   "cell_type": "markdown",
   "id": "2924fe91",
   "metadata": {},
   "source": [
    "In fact our analysis shows, that frequent 5 itemsets are the maximal frequent itemsets, because there are no bigger itemsets with the same support. Based on the ideas, above this is no big surprise and confirms our idea of using the average numbers of users per group and accesses per user as a starting point for our size of the itemset and our target support.\n",
    "\n",
    "With respect to the results our advice for anyone, maintaining access rights, would be to at least check the above printed frequent 5 itemsets with their support for combinations, that could be directly used for new users in the system, depending on their exact role.\n",
    "\n",
    "So, in contrast to the recommender system the assocation rule mining yields valuable results for our dataset. These results could be further expanded by answering specific questions about the dataset like: \"What is the probability of a user having the permission group c if he or she already has a and b?\". We will not answer these kinds of questions in this work, as there are obviously millions of possibilites. However, with the output of our Apriori Algorithm as a basis these kinds of questions could be easily answered in production as needed (see [3])."
   ]
  },
  {
   "cell_type": "markdown",
   "id": "65630496",
   "metadata": {},
   "source": [
    "Finally we will do some hyperparameter variation for our Apriori Algorithm to see whether the effect of a change in support matches the intuition. We will only consider frequent 1 itemsets. As the algorithm is quite intense in computing time and varying the support for larger itemsets would therefore last way to long."
   ]
  },
  {
   "cell_type": "code",
   "execution_count": 156,
   "id": "a7c56c67",
   "metadata": {},
   "outputs": [
    {
     "data": {
      "text/plain": [
       "Text(0, 0.5, 'frequent 1 itemsets')"
      ]
     },
     "execution_count": 156,
     "metadata": {},
     "output_type": "execute_result"
    },
    {
     "data": {
      "image/png": "[encoded data removed]",
      "text/plain": [
       "<Figure size 432x288 with 1 Axes>"
      ]
     },
     "metadata": {
      "needs_background": "light"
     },
     "output_type": "display_data"
    }
   ],
   "source": [
    "fs = []\n",
    "testparams = [0.01, 0.03, 0.05, 0.07, 0.1, 0.25]\n",
    "for i in testparams:\n",
    "    fs.append(len(list(generate_frequent_itemsets(dataset, i, items, n=1).keys())))\n",
    "\n",
    "plt.plot(testparams, fs)\n",
    "plt.xlabel('support')\n",
    "plt.ylabel('frequent 1 itemsets')"
   ]
  },
  {
   "cell_type": "markdown",
   "id": "61b6629d",
   "metadata": {},
   "source": [
    "As the plot shows, the results match the intuition. The number of frequent itemsets reduces with increasing support. And there are nearly no frequent 1 itemsets with a support greater than 10% in our dataset. Which means, that nearly no permission group has more than 10% of users as members."
   ]
  },
  {
   "cell_type": "markdown",
   "id": "0308037d",
   "metadata": {},
   "source": [
    "# Results, Discussion and Conclusion"
   ]
  },
  {
   "cell_type": "markdown",
   "id": "7181f5de",
   "metadata": {},
   "source": [
    "In summary, this work shows, that recommender systems, based on collaborative filtering are not suitable for highly unbalanced datasets in a binary classification problem. Furthermore, we observed that assocation rules are a powerful tool to acquire insights (frequent itemsets) even from this kind of highly distorted data. \n",
    "\n",
    "In a future work I would possibly choose a smaller dataset, as the size of this dataset made every step of the analysis complex. Reading the data, was complex as pandas was consuming way to much memory for this task and reducing the data to a sensible subgroup of the whole dataset, without being able to plot the single features, as there were that many, was also a bit of a challenge.\n",
    "\n",
    "Nevertheless the task was interesting and I learned a lot about handling \"big data\"."
   ]
  },
  {
   "cell_type": "markdown",
   "id": "12ce01c1",
   "metadata": {},
   "source": [
    "## References\n",
    "\n",
    "[1] Montanez,Ken. (2011). Amazon Access Samples. UCI Machine Learning Repository. https://doi.org/10.24432/C5JW2K.\n",
    "\n",
    "[2] Montanez et. al. (2012), THE EIGHTH ANNUAL MLSP COMPETITION: OVERVIEW\n",
    "\n",
    "[3| Association Rules (xxxx), https://www.ipd.kit.edu/~ipd/institut/dwm2004-05/dwm-kap11-4auf1.pdf\n",
    "\n",
    "[4] Ricci et. al. (2011), Recommender System Handbook\n",
    "\n",
    "[5] Liu et. al (2015), Similarity Learning for High-Dimensional Sparse Data"
   ]
  },
  {
   "cell_type": "markdown",
   "id": "d0cc879d",
   "metadata": {},
   "source": [
    "## Documentation of Packages"
   ]
  },
  {
   "cell_type": "code",
   "execution_count": 157,
   "id": "ab0820fe",
   "metadata": {},
   "outputs": [
    {
     "name": "stdout",
     "output_type": "stream",
     "text": [
      "# packages in environment at /opt/anaconda3:\r\n",
      "#\r\n",
      "# Name                    Version                   Build  Channel\r\n",
      "_ipyw_jlab_nb_ext_conf    0.1.0                    py38_0  \r\n",
      "alabaster                 0.7.12             pyhd3eb1b0_0  \r\n",
      "altair                    4.2.2              pyhd8ed1ab_0    conda-forge\r\n",
      "anaconda                  2021.05                  py38_0  \r\n",
      "anaconda-client           1.7.2                    py38_0  \r\n",
      "anaconda-navigator        2.3.2            py38hecd8cb5_0  \r\n",
      "anaconda-project          0.9.1              pyhd3eb1b0_1  \r\n",
      "anyio                     2.2.0            py38hecd8cb5_1  \r\n",
      "appdirs                   1.4.4                      py_0  \r\n",
      "applaunchservices         0.2.1                      py_0  \r\n",
      "appnope                   0.1.2           py38hecd8cb5_1001  \r\n",
      "appscript                 1.1.2            py38h9ed2024_0  \r\n",
      "argh                      0.26.2                   py38_0  \r\n",
      "argon2-cffi               20.1.0           py38h9ed2024_1  \r\n",
      "asn1crypto                1.4.0                      py_0  \r\n",
      "astroid                   2.5              py38hecd8cb5_1  \r\n",
      "astropy                   4.2.1            py38h9ed2024_1  \r\n",
      "async_generator           1.10               pyhd3eb1b0_0  \r\n",
      "atomicwrites              1.4.0                      py_0  \r\n",
      "attrs                     20.3.0             pyhd3eb1b0_0  \r\n",
      "autopep8                  1.5.6              pyhd3eb1b0_0  \r\n",
      "babel                     2.9.0              pyhd3eb1b0_0  \r\n",
      "backcall                  0.2.0              pyhd3eb1b0_0  \r\n",
      "backports                 1.0                pyhd3eb1b0_2  \r\n",
      "backports.functools_lru_cache 1.6.4              pyhd3eb1b0_0  \r\n",
      "backports.shutil_get_terminal_size 1.0.0              pyhd3eb1b0_3  \r\n",
      "backports.tempfile        1.0                pyhd3eb1b0_1  \r\n",
      "backports.weakref         1.0.post1                  py_1  \r\n",
      "beautifulsoup4            4.9.3              pyha847dfd_0  \r\n",
      "bitarray                  1.9.2            py38h9ed2024_1  \r\n",
      "bkcharts                  0.2                      py38_0  \r\n",
      "black                     19.10b0                    py_0  \r\n",
      "blas                      1.0                         mkl  \r\n",
      "bleach                    3.3.0              pyhd3eb1b0_0  \r\n",
      "blosc                     1.21.0               h2842e9f_0  \r\n",
      "bokeh                     2.3.2            py38hecd8cb5_0  \r\n",
      "boto                      2.49.0                   py38_0  \r\n",
      "bottleneck                1.3.2            py38hf1fa96c_1  \r\n",
      "brotlipy                  0.7.0           py38h9ed2024_1003  \r\n",
      "bzip2                     1.0.8                h1de35cc_0  \r\n",
      "c-ares                    1.17.1               h9ed2024_0  \r\n",
      "ca-certificates           2021.4.13            hecd8cb5_1  \r\n",
      "certifi                   2020.12.5        py38hecd8cb5_0  \r\n",
      "cffi                      1.14.5           py38h2125817_0  \r\n",
      "chardet                   4.0.0           py38hecd8cb5_1003  \r\n",
      "click                     7.1.2              pyhd3eb1b0_0  \r\n",
      "cloudpickle               1.6.0                      py_0  \r\n",
      "clyent                    1.2.2                    py38_1  \r\n",
      "colorama                  0.4.4              pyhd3eb1b0_0  \r\n",
      "conda                     22.9.0           py38hecd8cb5_0  \r\n",
      "conda-build               3.21.4           py38hecd8cb5_0  \r\n",
      "conda-content-trust       0.1.1              pyhd3eb1b0_0  \r\n",
      "conda-env                 2.6.0                         1  \r\n",
      "conda-package-handling    1.7.3            py38h9ed2024_1  \r\n",
      "conda-repo-cli            1.0.4              pyhd3eb1b0_0  \r\n",
      "conda-token               0.3.0              pyhd3eb1b0_0  \r\n",
      "conda-verify              3.4.2                      py_1  \r\n",
      "contextlib2               0.6.0.post1                py_0  \r\n",
      "cryptography              3.4.7            py38h2fd3fbb_0  \r\n",
      "curl                      7.71.1               hb0a8c7a_1  \r\n",
      "cycler                    0.10.0                   py38_0  \r\n",
      "cython                    0.29.23          py38h23ab428_0  \r\n",
      "cytoolz                   0.11.0           py38haf1e3a3_0  \r\n",
      "dask                      2021.4.0           pyhd3eb1b0_0  \r\n",
      "dask-core                 2021.4.0           pyhd3eb1b0_0  \r\n",
      "dbus                      1.13.18              h18a8e69_0  \r\n",
      "decorator                 5.0.6              pyhd3eb1b0_0  \r\n",
      "defusedxml                0.7.1              pyhd3eb1b0_0  \r\n",
      "diff-match-patch          20200713                   py_0  \r\n",
      "distributed               2021.4.0         py38hecd8cb5_0  \r\n",
      "docutils                  0.17             py38hecd8cb5_1  \r\n",
      "entrypoints               0.3                      py38_0  \r\n",
      "et_xmlfile                1.0.1                   py_1001  \r\n",
      "expat                     2.3.0                h23ab428_2  \r\n",
      "fastcache                 1.1.0            py38h1de35cc_0  \r\n",
      "filelock                  3.0.12             pyhd3eb1b0_1  \r\n",
      "flake8                    3.9.0              pyhd3eb1b0_0  \r\n",
      "flask                     1.1.2              pyhd3eb1b0_0  \r\n",
      "freetype                  2.10.4               ha233b18_0  \r\n",
      "fsspec                    0.9.0              pyhd3eb1b0_0  \r\n",
      "future                    0.18.2                   py38_1  \r\n",
      "get_terminal_size         1.0.0                h7520d66_0  \r\n",
      "gettext                   0.21.0               h7535e17_0  \r\n",
      "gevent                    21.1.2           py38h9ed2024_1  \r\n",
      "glib                      2.68.1               hdf23fa2_0  \r\n",
      "glob2                     0.7                pyhd3eb1b0_0  \r\n",
      "gmp                       6.2.1                h23ab428_2  \r\n",
      "gmpy2                     2.0.8            py38h6ef4df4_3  \r\n",
      "greenlet                  1.0.0            py38h23ab428_2  \r\n",
      "h5py                      2.10.0           py38h3134771_0  \r\n",
      "hdf5                      1.10.4               hfa1e0ec_0  \r\n",
      "heapdict                  1.0.1                      py_0  \r\n",
      "html5lib                  1.1                        py_0  \r\n",
      "icu                       58.2                 h0a44026_3  \r\n",
      "idna                      2.10               pyhd3eb1b0_0  \r\n",
      "imageio                   2.9.0              pyhd3eb1b0_0  \r\n",
      "imagesize                 1.2.0              pyhd3eb1b0_0  \r\n",
      "importlib-metadata        3.10.0           py38hecd8cb5_0  \r\n",
      "importlib_metadata        3.10.0               hd3eb1b0_0  \r\n",
      "iniconfig                 1.1.1              pyhd3eb1b0_0  \r\n",
      "intel-openmp              2021.2.0           hecd8cb5_564  \r\n",
      "intervaltree              3.1.0                      py_0  \r\n",
      "ipykernel                 5.3.4            py38h5ca1d4c_0  \r\n",
      "ipython                   7.22.0           py38h01d92e1_0  \r\n",
      "ipython_genutils          0.2.0              pyhd3eb1b0_1  \r\n",
      "ipywidgets                7.6.3              pyhd3eb1b0_1  \r\n",
      "isort                     5.8.0              pyhd3eb1b0_0  \r\n",
      "itsdangerous              1.1.0              pyhd3eb1b0_0  \r\n",
      "jbig                      2.1                  h4d881f8_0  \r\n",
      "jdcal                     1.4.1                      py_0  \r\n",
      "jedi                      0.17.2           py38hecd8cb5_1  \r\n",
      "jinja2                    2.11.3             pyhd3eb1b0_0  \r\n",
      "joblib                    1.0.1              pyhd3eb1b0_0  \r\n",
      "jpeg                      9b                   he5867d9_2  \r\n",
      "json5                     0.9.5                      py_0  \r\n",
      "jsonschema                3.2.0                      py_2  \r\n",
      "jupyter                   1.0.0                    py38_7  \r\n",
      "jupyter-packaging         0.7.12             pyhd3eb1b0_0  \r\n",
      "jupyter_client            6.1.12             pyhd3eb1b0_0  \r\n",
      "jupyter_console           6.4.0              pyhd3eb1b0_0  \r\n",
      "jupyter_core              4.7.1            py38hecd8cb5_0  \r\n",
      "jupyter_server            1.4.1            py38hecd8cb5_0  \r\n",
      "jupyterlab                3.0.14             pyhd3eb1b0_1  \r\n",
      "jupyterlab_pygments       0.1.2                      py_0  \r\n",
      "jupyterlab_server         2.4.0              pyhd3eb1b0_0  \r\n",
      "jupyterlab_widgets        1.0.0              pyhd3eb1b0_1  \r\n",
      "keyring                   22.3.0           py38hecd8cb5_0  \r\n",
      "kiwisolver                1.3.1            py38h23ab428_0  \r\n",
      "krb5                      1.18.2               h75d18d8_0  \r\n",
      "lazy-object-proxy         1.6.0            py38h9ed2024_0  \r\n",
      "lcms2                     2.12                 hf1fd2bf_0  \r\n",
      "libarchive                3.4.2                haa3ed63_0  \r\n",
      "libcurl                   7.71.1               h8a08a2b_1  \r\n",
      "libcxx                    10.0.0                        1  \r\n",
      "libedit                   3.1.20210216         h9ed2024_1  \r\n",
      "libev                     4.33                 haf1e3a3_0  \r\n",
      "libffi                    3.3                  hb1e8313_2  \r\n",
      "libgfortran               3.0.1                h93005f0_2  \r\n",
      "libiconv                  1.16                 h1de35cc_0  \r\n",
      "liblief                   0.10.1               h0a44026_0  \r\n",
      "libllvm10                 10.0.1               h76017ad_5  \r\n",
      "libpng                    1.6.37               ha441bb4_0  \r\n",
      "libsodium                 1.0.18               h1de35cc_0  \r\n",
      "libspatialindex           1.9.3                h23ab428_0  \r\n",
      "libssh2                   1.9.0                ha12b0ac_1  \r\n",
      "libtiff                   4.2.0                h87d7836_0  \r\n",
      "libuv                     1.40.0               haf1e3a3_0  \r\n",
      "libwebp-base              1.2.0                h9ed2024_0  \r\n",
      "libxml2                   2.9.10               h7cdb67c_3  \r\n",
      "libxslt                   1.1.34               h83b36ba_0  \r\n",
      "llvm-openmp               10.0.0               h28b9765_0  \r\n",
      "llvmlite                  0.36.0           py38he4411ff_4  \r\n",
      "locket                    0.2.1            py38hecd8cb5_1  \r\n",
      "lxml                      4.6.3            py38h26b266a_0  \r\n",
      "lz4-c                     1.9.3                h23ab428_0  \r\n",
      "lzo                       2.10                 haf1e3a3_2  \r\n",
      "markupsafe                1.1.1            py38h1de35cc_1  \r\n",
      "matplotlib                3.3.4            py38hecd8cb5_0  \r\n",
      "matplotlib-base           3.3.4            py38h8b3ea08_0  \r\n",
      "mccabe                    0.6.1                    py38_1  \r\n",
      "mistune                   0.8.4           py38h1de35cc_1001  \r\n",
      "mkl                       2021.2.0           hecd8cb5_269  \r\n",
      "mkl-service               2.3.0            py38h9ed2024_1  \r\n",
      "mkl_fft                   1.3.0            py38h4a7008c_2  \r\n",
      "mkl_random                1.2.1            py38hb2f4e1b_2  \r\n",
      "mock                      4.0.3              pyhd3eb1b0_0  \r\n",
      "more-itertools            8.7.0              pyhd3eb1b0_0  \r\n",
      "mpc                       1.1.0                h6ef4df4_1  \r\n",
      "mpfr                      4.0.2                h9066e36_1  \r\n",
      "mpmath                    1.2.1            py38hecd8cb5_0  \r\n",
      "msgpack-python            1.0.2            py38hf7b0b51_1  \r\n",
      "multipledispatch          0.6.0                    py38_0  \r\n",
      "mypy_extensions           0.4.3                    py38_0  \r\n",
      "navigator-updater         0.2.1                    py38_0  \r\n",
      "nbclassic                 0.2.6              pyhd3eb1b0_0  \r\n",
      "nbclient                  0.5.3              pyhd3eb1b0_0  \r\n",
      "nbconvert                 6.0.7                    py38_0  \r\n",
      "nbformat                  5.1.3              pyhd3eb1b0_0  \r\n",
      "ncurses                   6.2                  h0a44026_1  \r\n",
      "nest-asyncio              1.5.1              pyhd3eb1b0_0  \r\n",
      "networkx                  2.5                        py_0  \r\n",
      "nltk                      3.6.1              pyhd3eb1b0_0  \r\n",
      "nose                      1.3.7           pyhd3eb1b0_1006  \r\n",
      "notebook                  6.3.0            py38hecd8cb5_0  \r\n",
      "numba                     0.53.1           py38hb2f4e1b_0  \r\n",
      "numexpr                   2.7.3            py38h5873af2_1  \r\n",
      "numpy                     1.20.1           py38hd6e1bb9_0  \r\n",
      "numpy-base                1.20.1           py38h585ceec_0  \r\n",
      "numpydoc                  1.1.0              pyhd3eb1b0_1  \r\n",
      "olefile                   0.46                       py_0  \r\n",
      "openpyxl                  3.0.7              pyhd3eb1b0_0  \r\n",
      "openssl                   1.1.1k               h9ed2024_0  \r\n",
      "packaging                 20.9               pyhd3eb1b0_0  \r\n",
      "pandas                    1.2.4            py38h23ab428_0  \r\n",
      "pandoc                    2.12                 hecd8cb5_0  \r\n",
      "pandocfilters             1.4.3            py38hecd8cb5_1  \r\n",
      "parso                     0.7.0                      py_0  \r\n",
      "partd                     1.2.0              pyhd3eb1b0_0  \r\n",
      "path                      15.1.2           py38hecd8cb5_0  \r\n",
      "path.py                   12.5.0                        0  \r\n",
      "pathlib2                  2.3.5            py38hecd8cb5_2  \r\n",
      "pathspec                  0.7.0                      py_0  \r\n",
      "patsy                     0.5.1                    py38_0  \r\n",
      "pcre                      8.44                 hb1e8313_0  \r\n",
      "pep8                      1.7.1                    py38_0  \r\n",
      "pexpect                   4.8.0              pyhd3eb1b0_3  \r\n",
      "pickleshare               0.7.5           pyhd3eb1b0_1003  \r\n",
      "pillow                    8.2.0            py38h5270095_0  \r\n",
      "pip                       21.0.1           py38hecd8cb5_0  \r\n",
      "pkginfo                   1.7.0            py38hecd8cb5_0  \r\n",
      "pluggy                    0.13.1           py38hecd8cb5_0  \r\n",
      "ply                       3.11                     py38_0  \r\n",
      "prometheus_client         0.10.1             pyhd3eb1b0_0  \r\n",
      "prompt-toolkit            3.0.17             pyh06a4308_0  \r\n",
      "prompt_toolkit            3.0.17               hd3eb1b0_0  \r\n",
      "psutil                    5.8.0            py38h9ed2024_1  \r\n",
      "ptyprocess                0.7.0              pyhd3eb1b0_2  \r\n",
      "py                        1.10.0             pyhd3eb1b0_0  \r\n",
      "py-lief                   0.10.1           py38haf313ee_0  \r\n",
      "pycodestyle               2.6.0              pyhd3eb1b0_0  \r\n",
      "pycosat                   0.6.3            py38h1de35cc_1  \r\n",
      "pycparser                 2.20                       py_2  \r\n",
      "pycurl                    7.43.0.6         py38hddc9c9b_0  \r\n",
      "pydocstyle                6.0.0              pyhd3eb1b0_0  \r\n",
      "pyerfa                    1.7.3            py38h9ed2024_0  \r\n",
      "pyflakes                  2.2.0              pyhd3eb1b0_0  \r\n",
      "pygments                  2.8.1              pyhd3eb1b0_0  \r\n",
      "pyjwt                     2.1.0            py38hecd8cb5_0  \r\n",
      "pylint                    2.7.4            py38hecd8cb5_1  \r\n",
      "pyls-black                0.4.6                hd3eb1b0_0  \r\n",
      "pyls-spyder               0.3.2              pyhd3eb1b0_0  \r\n",
      "pyodbc                    4.0.30           py38h0a44026_0  \r\n",
      "pyopenssl                 20.0.1             pyhd3eb1b0_1  \r\n",
      "pyparsing                 2.4.7              pyhd3eb1b0_0  \r\n",
      "pyqt                      5.9.2            py38h655552a_2  \r\n",
      "pyrsistent                0.17.3           py38haf1e3a3_0  \r\n",
      "pysocks                   1.7.1                    py38_1  \r\n",
      "pytables                  3.6.1            py38h4727e94_0  \r\n",
      "pytest                    6.2.3            py38hecd8cb5_2  \r\n",
      "python                    3.8.8                h88f2d9e_5  \r\n",
      "python-dateutil           2.8.1              pyhd3eb1b0_0  \r\n",
      "python-jsonrpc-server     0.4.0                      py_0  \r\n",
      "python-language-server    0.36.2             pyhd3eb1b0_0  \r\n",
      "python-libarchive-c       2.9                pyhd3eb1b0_1  \r\n",
      "python.app                3                py38h9ed2024_0  \r\n",
      "pytz                      2021.1             pyhd3eb1b0_0  \r\n",
      "pywavelets                1.1.1            py38haf1e3a3_2  \r\n",
      "pyyaml                    5.4.1            py38h9ed2024_1  \r\n",
      "pyzmq                     20.0.0           py38h23ab428_1  \r\n",
      "qdarkstyle                2.8.1                      py_0  \r\n",
      "qt                        5.9.7                h468cd18_1  \r\n",
      "qtawesome                 1.0.2              pyhd3eb1b0_0  \r\n",
      "qtconsole                 5.0.3              pyhd3eb1b0_0  \r\n",
      "qtpy                      1.9.0                      py_0  \r\n",
      "readline                  8.1                  h9ed2024_0  \r\n",
      "regex                     2021.4.4         py38h9ed2024_0  \r\n",
      "requests                  2.25.1             pyhd3eb1b0_0  \r\n",
      "ripgrep                   12.1.1                        0  \r\n",
      "rope                      0.18.0                     py_0  \r\n",
      "rtree                     0.9.7            py38hecd8cb5_1  \r\n",
      "ruamel_yaml               0.15.100         py38h9ed2024_0  \r\n",
      "scikit-image              0.18.1           py38hb2f4e1b_0  \r\n",
      "scikit-learn              0.24.1           py38hb2f4e1b_0  \r\n",
      "scipy                     1.6.2            py38hd5f7400_1  \r\n",
      "seaborn                   0.11.1             pyhd3eb1b0_0  \r\n",
      "send2trash                1.5.0              pyhd3eb1b0_1  \r\n",
      "setuptools                52.0.0           py38hecd8cb5_0  \r\n",
      "simplegeneric             0.8.1                    py38_2  \r\n",
      "singledispatch            3.6.1           pyhd3eb1b0_1001  \r\n",
      "sip                       4.19.8           py38h0a44026_0  \r\n",
      "six                       1.15.0           py38hecd8cb5_0  \r\n",
      "sniffio                   1.2.0            py38hecd8cb5_1  \r\n",
      "snowballstemmer           2.1.0              pyhd3eb1b0_0  \r\n",
      "sortedcollections         2.1.0              pyhd3eb1b0_0  \r\n",
      "sortedcontainers          2.3.0              pyhd3eb1b0_0  \r\n",
      "soupsieve                 2.2.1              pyhd3eb1b0_0  \r\n",
      "sphinx                    4.0.1              pyhd3eb1b0_0  \r\n",
      "sphinxcontrib             1.0                      py38_1  \r\n",
      "sphinxcontrib-applehelp   1.0.2              pyhd3eb1b0_0  \r\n",
      "sphinxcontrib-devhelp     1.0.2              pyhd3eb1b0_0  \r\n",
      "sphinxcontrib-htmlhelp    1.0.3              pyhd3eb1b0_0  \r\n",
      "sphinxcontrib-jsmath      1.0.1              pyhd3eb1b0_0  \r\n",
      "sphinxcontrib-qthelp      1.0.3              pyhd3eb1b0_0  \r\n",
      "sphinxcontrib-serializinghtml 1.1.4              pyhd3eb1b0_0  \r\n",
      "sphinxcontrib-websupport  1.2.4                      py_0  \r\n",
      "spyder                    4.2.5            py38hecd8cb5_0  \r\n",
      "spyder-kernels            1.10.2           py38hecd8cb5_0  \r\n",
      "sqlalchemy                1.4.7            py38h9ed2024_0  \r\n",
      "sqlite                    3.35.4               hce871da_0  \r\n",
      "statsmodels               0.12.2           py38h9ed2024_0  \r\n",
      "sympy                     1.8              py38hecd8cb5_0  \r\n",
      "tbb                       2020.3               h879752b_0  \r\n",
      "tblib                     1.7.0                      py_0  \r\n",
      "terminado                 0.9.4            py38hecd8cb5_0  \r\n",
      "testpath                  0.4.4              pyhd3eb1b0_0  \r\n",
      "textdistance              4.2.1              pyhd3eb1b0_0  \r\n",
      "threadpoolctl             2.1.0              pyh5ca1d4c_0  \r\n",
      "three-merge               0.1.1              pyhd3eb1b0_0  \r\n",
      "tifffile                  2020.10.1        py38h0cf3a3e_2  \r\n",
      "tk                        8.6.10               hb0a8c7a_0  \r\n",
      "toml                      0.10.2             pyhd3eb1b0_0  \r\n",
      "toolz                     0.11.1             pyhd3eb1b0_0  \r\n",
      "tornado                   6.1              py38h9ed2024_0  \r\n",
      "tqdm                      4.59.0             pyhd3eb1b0_1  \r\n",
      "traitlets                 5.0.5              pyhd3eb1b0_0  \r\n",
      "typed-ast                 1.4.2            py38h9ed2024_1  \r\n",
      "typing_extensions         3.7.4.3            pyha847dfd_0  \r\n",
      "ujson                     4.0.2            py38h23ab428_0  \r\n",
      "unicodecsv                0.14.1                   py38_0  \r\n",
      "unixodbc                  2.3.9                haf1e3a3_0  \r\n",
      "urllib3                   1.26.4             pyhd3eb1b0_0  \r\n",
      "watchdog                  1.0.2            py38h9ed2024_1  \r\n",
      "wcwidth                   0.2.5                      py_0  \r\n",
      "webencodings              0.5.1                    py38_1  \r\n",
      "werkzeug                  1.0.1              pyhd3eb1b0_0  \r\n",
      "wheel                     0.36.2             pyhd3eb1b0_0  \r\n",
      "widgetsnbextension        3.5.1                    py38_0  \r\n",
      "wrapt                     1.12.1           py38haf1e3a3_1  \r\n",
      "wurlitzer                 2.1.0            py38hecd8cb5_0  \r\n",
      "xlrd                      2.0.1              pyhd3eb1b0_0  \r\n",
      "xlsxwriter                1.3.8              pyhd3eb1b0_0  \r\n",
      "xlwings                   0.23.0           py38hecd8cb5_0  \r\n",
      "xlwt                      1.3.0                    py38_0  \r\n",
      "xz                        5.2.5                h1de35cc_0  \r\n",
      "yaml                      0.2.5                haf1e3a3_0  \r\n",
      "yapf                      0.31.0             pyhd3eb1b0_0  \r\n",
      "zeromq                    4.3.4                h23ab428_0  \r\n",
      "zict                      2.0.0              pyhd3eb1b0_0  \r\n",
      "zipp                      3.4.1              pyhd3eb1b0_0  \r\n",
      "zlib                      1.2.11               h1de35cc_3  \r\n",
      "zope                      1.0                      py38_1  \r\n",
      "zope.event                4.5.0                    py38_0  \r\n",
      "zope.interface            5.3.0            py38h9ed2024_0  \r\n",
      "zstd                      1.4.5                h41d2c2f_0  \r\n"
     ]
    },
    {
     "name": "stdout",
     "output_type": "stream",
     "text": [
      "\n",
      "Note: you may need to restart the kernel to use updated packages.\n"
     ]
    }
   ],
   "source": [
    "conda list"
   ]
  },
  {
   "cell_type": "markdown",
   "id": "9ec081c1",
   "metadata": {},
   "source": []
  },
  {
   "cell_type": "code",
   "execution_count": null,
   "id": "fa6aef82",
   "metadata": {},
   "outputs": [],
   "source": []
  }
 ],
 "metadata": {
  "kernelspec": {
   "display_name": "Python 3",
   "language": "python",
   "name": "python3"
  },
  "language_info": {
   "codemirror_mode": {
    "name": "ipython",
    "version": 3
   },
   "file_extension": ".py",
   "mimetype": "text/x-python",
   "name": "python",
   "nbconvert_exporter": "python",
   "pygments_lexer": "ipython3",
   "version": "3.8.8"
  }
 },
 "nbformat": 4,
 "nbformat_minor": 5
}
